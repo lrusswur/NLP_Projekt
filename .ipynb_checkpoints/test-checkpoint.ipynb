{
 "cells": [
  {
   "cell_type": "code",
   "execution_count": 13,
   "metadata": {},
   "outputs": [],
   "source": [
    "import json\n",
    "import os\n",
    "import sys\n",
    "import pathlib\n",
    "\n",
    "for path in pathlib.Path(\"./json_lyrics_texts\").iterdir():\n",
    "    list_lyrics = []\n",
    "    if path.is_file():\n",
    "        current_file = open(path, \"r\")\n",
    "        #print(current_file.read())\n",
    "\n",
    "        current_file.close()"
   ]
  },
  {
   "cell_type": "code",
   "execution_count": 21,
   "metadata": {},
   "outputs": [
    {
     "ename": "SyntaxError",
     "evalue": "invalid syntax (<ipython-input-21-bed66e09414e>, line 10)",
     "output_type": "error",
     "traceback": [
      "\u001b[0;36m  File \u001b[0;32m\"<ipython-input-21-bed66e09414e>\"\u001b[0;36m, line \u001b[0;32m10\u001b[0m\n\u001b[0;31m    if filename is a file:\u001b[0m\n\u001b[0m                        ^\u001b[0m\n\u001b[0;31mSyntaxError\u001b[0m\u001b[0;31m:\u001b[0m invalid syntax\n"
     ]
    }
   ],
   "source": [
    "import json    \n",
    "import os\n",
    "import sys\n",
    "import pathlib\n",
    "\n",
    "lyrics_list = []\n",
    "directory = \"./json_lyrics_texts\"\n",
    "for filename in os.listdir(directory):\n",
    "    if filename.endswith(\".json\"): \n",
    "        if filename is a file:\n",
    "            with open(filename) as json_file:\n",
    "                data = json.load(json_file)\n",
    "                lyrics_text.append(data)\n",
    "                print(lyrics_text)"
   ]
  },
  {
   "cell_type": "code",
   "execution_count": null,
   "metadata": {},
   "outputs": [],
   "source": []
  }
 ],
 "metadata": {
  "kernelspec": {
   "display_name": "Python 3",
   "language": "python",
   "name": "python3"
  },
  "language_info": {
   "codemirror_mode": {
    "name": "ipython",
    "version": 3
   },
   "file_extension": ".py",
   "mimetype": "text/x-python",
   "name": "python",
   "nbconvert_exporter": "python",
   "pygments_lexer": "ipython3",
   "version": "3.7.6"
  }
 },
 "nbformat": 4,
 "nbformat_minor": 4
}
