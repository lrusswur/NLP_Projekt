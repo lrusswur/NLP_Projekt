{
 "cells": [
  {
   "cell_type": "code",
   "execution_count": 19,
   "metadata": {},
   "outputs": [],
   "source": [
    "#import os\n",
    "#import sys\n",
    "#import pathlib\n",
    "\n",
    "#for path in pathlib.Path(\"./json_lyrics_texts\").iterdir():\n",
    " #   if path.is_file():\n",
    "  #      current_file = open(path, \"r\")\n",
    "        #print(current_file.read())\n",
    "   #     current_file.close()"
   ]
  },
  {
   "cell_type": "code",
   "execution_count": 36,
   "metadata": {},
   "outputs": [
    {
     "name": "stderr",
     "output_type": "stream",
     "text": [
      "IOPub data rate exceeded.\n",
      "The notebook server will temporarily stop sending output\n",
      "to the client in order to avoid crashing it.\n",
      "To change this limit, set the config variable\n",
      "`--NotebookApp.iopub_data_rate_limit`.\n",
      "\n",
      "Current values:\n",
      "NotebookApp.iopub_data_rate_limit=1000000.0 (bytes/sec)\n",
      "NotebookApp.rate_limit_window=3.0 (secs)\n",
      "\n"
     ]
    }
   ],
   "source": [
    "import json    \n",
    "import os\n",
    "import sys\n",
    "import pathlib\n",
    "\n",
    "lyrics_text_list = []\n",
    "directory = \"/home/nadia/Schreibtisch/lyrics/json_lyrics_texts\"\n",
    "for filename in os.listdir(directory):\n",
    "    if filename.endswith(\".json\"): \n",
    "        with open(filename) as json_file:\n",
    "            data = json.load(json_file)\n",
    "            lyrics_text_list.append(data)\n",
    "        print(lyrics_text_list)\n",
    "        \n",
    "\n",
    "#for single_file in files:\n",
    " #   with open(single_file, 'r') as f:\n",
    "  #      json_file = json.load(f)\n",
    "   #     data.append([json_file[\"lyrics\"]])\n",
    "    #    print(data)\n",
    "        \n",
    "        \n",
    "\n",
    "#with open('lyrics_rihanna_californiakingbed.json') as json_file:\n",
    "#    data = json.load(json_file)\n",
    " #   print(data[\"title\"])\n",
    "  #  print(data[\"artist\"])\n",
    "   # print(data[\"lyrics\"])"
   ]
  },
  {
   "cell_type": "code",
   "execution_count": 28,
   "metadata": {},
   "outputs": [
    {
     "name": "stdout",
     "output_type": "stream",
     "text": [
      "Teenage Dream\n",
      "Katy Perry\n",
      "[Verse 1]\n",
      "You think I'm pretty without any makeup on\n",
      "You think I'm funny when I tell the punch line wrong\n",
      "I know you get me, so I let my walls come down, down\n",
      "Before you met me, I was alright\n",
      "But things were kinda heavy, you brought me to life\n",
      "Now every February, you'll be my Valentine, Valentine\n",
      "\n",
      "[Pre-Chorus]\n",
      "Let's go all the way tonight\n",
      "No regrets, just love\n",
      "We can dance until we die\n",
      "You and I, we'll be young forever\n",
      "\n",
      "[Chorus]\n",
      "You make me feel like I'm livin' a teenage dream\n",
      "The way you turn me on, I can't sleep\n",
      "Let's run away and don't ever look back\n",
      "Don't ever look back\n",
      "My heart stops when you look at me\n",
      "Just one touch, now, baby, I believe\n",
      "This is real, so take a chance and don't ever look back\n",
      "Don't ever look back\n",
      "\n",
      "[Verse 2]\n",
      "We drove to Cali and got drunk on the beach\n",
      "Got a motel and built a fort out of sheets\n",
      "I finally found you, my missing puzzle piece, I'm complete\n",
      "[Pre-Chorus]\n",
      "Let's go all the way tonight\n",
      "No regrets, just love\n",
      "We can dance until we die\n",
      "You and I, we'll be young forever\n",
      "\n",
      "[Chorus]\n",
      "You make me feel like I'm livin' a teenage dream\n",
      "The way you turn me on, I can't sleep\n",
      "Let's run away and don't ever look back\n",
      "Don't ever look back\n",
      "My heart stops when you look at me\n",
      "Just one touch, now, baby, I believe\n",
      "This is real, so take a chance and don't ever look back\n",
      "Don't ever look back\n",
      "\n",
      "[Bridge]\n",
      "I'ma get your heart racing in my skin-tight jeans\n",
      "Be your teenage dream tonight\n",
      "Let you put your hands on me in my skin-tight jeans\n",
      "Be your teenage dream tonight\n",
      "(Tonight, tonight, tonight, tonight, tonight, tonight)\n",
      "\n",
      "[Chorus]\n",
      "(You) You make me (Make me)\n",
      "Feel like I'm livin' a teenage dream\n",
      "The way you turn me on, I can't sleep\n",
      "Let's run away and don't ever look back\n",
      "Don't ever look back (No)\n",
      "My heart stops when you look at me\n",
      "Just one touch, now, baby, I believe\n",
      "This is real (Oh), so take a chance and don't ever look back\n",
      "Don't ever look back\n",
      "[Outro]\n",
      "I'ma get your heart racing in my skin-tight jeans\n",
      "Be your teenage dream tonight\n",
      "Let you put your hands on me in my skin-tight jeans\n",
      "Be your teenage dream tonight\n",
      "(Tonight, tonight, tonight, tonight, tonight, tonight)32EmbedShare URLCopyEmbedCopy\n"
     ]
    }
   ],
   "source": []
  },
  {
   "cell_type": "code",
   "execution_count": null,
   "metadata": {},
   "outputs": [],
   "source": []
  }
 ],
 "metadata": {
  "kernelspec": {
   "display_name": "Python 3",
   "language": "python",
   "name": "python3"
  },
  "language_info": {
   "codemirror_mode": {
    "name": "ipython",
    "version": 3
   },
   "file_extension": ".py",
   "mimetype": "text/x-python",
   "name": "python",
   "nbconvert_exporter": "python",
   "pygments_lexer": "ipython3",
   "version": "3.7.6"
  }
 },
 "nbformat": 4,
 "nbformat_minor": 4
}
